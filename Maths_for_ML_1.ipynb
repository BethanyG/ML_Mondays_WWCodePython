{
 "cells": [
  {
   "cell_type": "markdown",
   "metadata": {
    "colab_type": "text",
    "id": "_U4_1x2vjz-W"
   },
   "source": [
    "\n",
    "\n",
    "                                            \n",
    " #       **Mathematics for Machine Learning** - Part I\n",
    "\n",
    "\n",
    "\n"
   ]
  },
  {
   "cell_type": "markdown",
   "metadata": {
    "colab_type": "text",
    "id": "YnbnuXZUkJaK"
   },
   "source": [
    "Before we move onto `NumPy`, `Pandas`, & the whole \"Scientific Python Stack\", we think it would be good to get familiar with some of the underlying **mathematics for ML.**  \n",
    "\n",
    "\n",
    "_**Please don't worry or panic!**_.  Yes - these can be very complex topics, but you don't have to master them in their _entirety_ to get benefit from them, or to use the principals & equations effectively.  Additionally, we can always decide to delve deeper into particular topics, if you need clarification or want more!\n",
    "\n",
    "\n",
    "&nbsp;\n",
    "_____\n",
    "\n",
    "### At the Heart:  Random Variables\n",
    "\n",
    "The \"learning\" part of Machine Learning leverages `Random Variables`.    \n",
    "\n",
    "In probability & statistics, a `Random Variable` is a type of _**variable**_ whose value is subject to _**variations**_ due to  mathematical _**chance**_ (in other words probability -- that's the 'random' part). In contrast to other programming or mathematical variables (_where a variable represents a **single** unknown or assigned value or data structure_), a `Random Variable` can take on an entire _**set of possible different values**_ -- each of which carries an associated probability (odds, chance) of it happening.\n",
    "\n",
    "&nbsp;\n",
    "\n",
    "A `Random Variables` _**possible values**_ might represent the _**possible outcomes**_ of a yet-to-be-performed experiment, or the _**possible outcomes**_ of an experiment whose already-existing values are uncertain (for example -- the a result of incomplete information). \n",
    "\n",
    "`Random Variables ` can also represent either the results of\n",
    "\n",
    "1.  An _**objectively random**_ process (_think rolling dice, spinning roulette, or a 'random walk'_)\n",
    "2.  A _**subjective random process**_ resulting from incomplete knowledge of a quantity or outcome (_What is the probability it will rain today & I'll need my umbrella??, If I surf in the Pacific, what are the chances of shark attack?, What are the chances that my Jelly Belly bag will have 53 red Jelly Beans?_).\n",
    "\n",
    "\n",
    "\n",
    "\n",
    "\n",
    "`Random Variables` can further be classified as either _**discrete**_ or as _**continuous**_ \n",
    "\n",
    "<br><br>\n",
    "<img width=\"60%\" src=\"./images/Random Variables.png\">\n",
    "\n",
    "<br><br>\n",
    "\n",
    "A **Discrete Random Variable** represents a *countable* number of *distinct values* and can thus be **_quantified_**. `Random Variable`**`R`** can be defined as the number that comes up when you roll a \"Fair Dice\". \n",
    "**`R`** can take on any of the _**possible values**_ of **`[1,2,3,4,5,6]`** (_each of which has a probability of happening of 1/6 or 0.167 of the time_). Each potential outcome is **_distinct_**, & all possible outcomes are **_enumerated_** (countable):\n",
    "\n",
    "<br><br>\n",
    "<img src=\"./images/Discrete RV.png\">\n",
    "\n",
    "&nbsp;\n",
    "\n",
    "In contrast, a **Continuous Random Variable** represents an _infinite number_ of possible values (uncountable). These values are drawn from an **interval** or **collection of intervals**. `Random Variable`**`R`** here can represent the potential height of students in a class -- all of which fall within a curve-shaped set of intervals -- but could be any one of an _infinite set_ of specific numbers. The probability (_chance_) of a specific student having a height that falls in a given interval is represented by the area under a section of the curve.\n",
    "\n",
    "<br><br>\n",
    "<img width=\"90%\" align=\"center\" src=\"./images/Normal Curve w Random Variable.png\">\n",
    "\n",
    "\n",
    "&nbsp;\n",
    "\n",
    "\n",
    "The mathematical function (_formula, equation_) describing the possible values of a discreet or continuous `Random Variable` and the associated probabilities of each outcome is known as a _**probability distribution**_ or _**statistical distribution**_.  Since all random functions, variables, & operations are based on these **_statistical distributions_** we're going to cover some of the more common and useful ones in this session.\n",
    "\n",
    "&nbsp;\n",
    "\n",
    "Later on, we'll go through some ***derivatives*** -- which is a fancy way of saying equations that calculate the slope of a line that intersects a curve at a specific point -- they're one of the most important building blocks of ML algorithms -- used for things like _**Cost functions**_, & _**gradient descent**_.\n",
    "\n",
    "&nbsp;\n",
    "\n",
    "In the next session we'll dive deeper into probability, statistical concepts & derivatives. In this one let's unveil equations, matrix, introductory probability & common distributions.\n",
    "\n",
    "_**Let's get started !**_\n"
   ]
  },
  {
   "cell_type": "markdown",
   "metadata": {
    "colab_type": "text",
    "id": "vmYFJ4G4lmKK"
   },
   "source": [
    "## Some Mathematical Refreshers \n",
    "\n",
    "1.  [Simple Learn Math Refresher](https://www.simplilearn.com/math-refresher-machine-learning-tutorial)\n",
    "2.  [Edx.org Essential Math for ML](https://www.edx.org/course/essential-math-for-machine-learning-python-edition)\n",
    "3.  [Mathematics for Machine Learning Book](https://mml-book.github.io/)"
   ]
  },
  {
   "cell_type": "markdown",
   "metadata": {
    "colab_type": "text",
    "id": "mIH8PFqOmuqp"
   },
   "source": [
    "## Where to find help?\n",
    "\n",
    "1. Khan Academy- The best place for clear explanations!\n",
    "   * [Variables](https://www.khanacademy.org/math/algebra/introduction-to-algebra/alg1-intro-to-variables/v/what-is-a-variable)  \n",
    "   * [Coefficients](https://www.khanacademy.org/math/cc-sixth-grade-math/cc-6th-equivalent-exp/cc-6th-parts-of-expressions/v/expression-terms-factors-and-coefficients)\n",
    "   * [Functions](https://www.khanacademy.org/math/algebra/algebra-functions)\n",
    "   * [Linear equations](https://wikipedia.org/wiki/Linear_equation)\n",
    "   * [The Sigmoid function](https://wikipedia.org/wiki/Sigmoid_function)\n",
    "   * [Linear Algebra](https://www.khanacademy.org/math/linear-algebra)\n",
    "   * [Multivariable Calculus](https://www.khanacademy.org/math/multivariable-calculus)\n",
    "   * [Statistics & Probability](https://www.khanacademy.org/math/statistics-probability)  \n",
    "   \n",
    "  \n",
    "\n",
    "2. [Stanford CS229 Review Notes](http://cs229.stanford.edu/section/cs229-linalg.pdf) \n",
    "\n",
    "\n",
    "3. [3Blue1Brown YouTube](https://www.youtube.com/channel/UCYO_jab_esuFRV4b17AJtAw)  \n",
    "   *  _This channel is a good place to dive deep. It has **great visualizations**._  \n",
    "   \n",
    "\n",
    "4. [Coursera Mathematics for ML Specialization](https://www.coursera.org/specializations/mathematics-machine-learning)\n",
    "   *  _This is the \"long path\" of math but **worth it**. Very beneficial in long run_ \n",
    "\n",
    "\n",
    "\n",
    "\n",
    "### _Having Doubts??_ \n",
    "\n",
    "....Well that's why we have our slack channel! Drop all your doubt there, and let us deal with it. ;-) \n",
    "\n",
    "**Our Advice?** Start by reading/reviewing general resources around the topics below & dig in further with more detailed resources & exercises as required.  It's not as complicated as it looks.  _**Really**_.  Also?  _*we're programmers*_ - so we're going to make our computers do most of this math - we only really have to understand enough to _apply_ it.  :D\n",
    "\n"
   ]
  },
  {
   "cell_type": "code",
   "execution_count": 0,
   "metadata": {
    "colab": {},
    "colab_type": "code",
    "id": "DBGOnpCTg5mW"
   },
   "outputs": [],
   "source": []
  },
  {
   "cell_type": "markdown",
   "metadata": {
    "colab_type": "text",
    "id": "bxpgMgnTpaGq"
   },
   "source": [
    "# Equations\n",
    "\n",
    "### Khan Academy : [Linear equations](https://wikipedia.org/wiki/Linear_equation)  & [Polynomial equations](https://www.khanacademy.org/math/algebra/x2f8bb11595b61c86:quadratics-multiplying-factoring/x2f8bb11595b61c86:multiply-monomial-polynomial/v/polynomials-intro)  \n",
    "\n",
    "&nbsp;\n",
    "\n",
    "An **equation** is a combination of **_n variables_**. The **variables (_`a,b,x,y`, etc._)** in math (_just like the variables in programming_) are **terms** (_symbols_) which do not have a **fixed value** -- unlike **constants (_`3,5,1,8`_)**, which **do** have a fixed values. We combine **variables** & **constants** using mathematical **operations (_`+,-,*,/`_)** to create **equations** (_functions_).\n",
    "\n",
    "<img width=\"70%\" align=\"left\" src=\"./images/linear vs polynomial.png\">\n",
    "<br><br>\n",
    "\n",
    "A **linear equation** is an equation with _**single power**_ variables. When graphed, it would make a **line**:\n",
    "\n",
    "_**`1/2(x) + 2 = y`** in the graph to the left._\n",
    "\n",
    "\n",
    "Conversely, a **polynomial equation** has variables raised to _**powers of more than 1**_.  Wen graphed, these equations form **curves**:\n",
    "\n",
    "_**`x^2 - x - 2 = y`** in the graph._\n",
    "\n",
    "\n",
    "Another word for \"power\" here is _**degree**_.  We use _**degree**_ to refer to the **highest exponent** or **highest power** of the variables in the **polynomial**. \n",
    "\n",
    "**`x^2 - x - 2 = y`** is a **second degree, or _quadratic_ polynomial**\n",
    "\n",
    "\n",
    "\n"
   ]
  },
  {
   "cell_type": "markdown",
   "metadata": {
    "colab_type": "text",
    "id": "NMHHlQqrq-N8"
   },
   "source": [
    "## Matrix\n",
    "\n",
    "\n",
    "### Khan Academy : [Matrices](https://www.khanacademy.org/math/algebra-home/alg-matrices)  \n",
    "\n",
    "\n",
    "A **Matrix** is nothing more than a type of _**array**_ (_in core Python think of a `list` or `list of lists` -- which are built on arrays_).  \n",
    "\n",
    "\n",
    "<img width=\"55%\" align=\"left\" src=\"./images/Matrix_fun.png\">\n",
    "<br><br>\n",
    "\n",
    "\n",
    "A **matrix** has two dimensions - **height** & **width** (_rows & columns_). \n",
    "\n",
    "In Python libraries such as `numpy` & `pandas`, matrices are modeled as _**multi-dimensional arrays**_ -- essentially tables -- of elements all with matching data types (_all `int`, all `float`....etc. etc._).  \n",
    "\n",
    "\n",
    "When dealing with only **one dimension** of a matrix, we use the term **vector**. **Vectors** are just one-dimensional  _**matrices**_ (_a single `list` of items ... a flat array_). Matrices are essentially **_stacked vectors_** -- multiple rows / multiple columns glued together.\n",
    "\n",
    "\n",
    "**Shape** is used to describe how many rows and columns are in a matrix (_**e.g.** `shape = 4x3` = a matrix with **4 rows** & **three columns** or `shape = 3x3x4` = a matrix with **3 rows**, **3 columns**, **three deep**_)  \n",
    "\n",
    "**Rank** is used to describe the _number of dimensions_ of a matrix (_**e.g.** if a matrix is `4x3x3`, it is said to have a **rank** of 3 -- or **3 dimensions**_).\n",
    "\n",
    "\n",
    "Various mathematical operations can be performed on matrices such as addition,subtraction, multiplication etc....although there are some specific rules to follow. Every element in one matrix is operated on with the corresponding element of another matrix when performing matrix operations -- & we'll get into some common operations below.  \n",
    "\n",
    "You can look over addition & subtraction yourself -- we'll cover the multiplication...which can be a little tricky.\n",
    "\n",
    "\n"
   ]
  },
  {
   "cell_type": "markdown",
   "metadata": {
    "colab": {},
    "colab_type": "code",
    "id": "SGmYNAZgq8T1"
   },
   "source": [
    " "
   ]
  },
  {
   "cell_type": "markdown",
   "metadata": {
    "colab_type": "text",
    "id": "8mAbqWNBt7Vz"
   },
   "source": [
    "## Matrix multiplication\n",
    "\n",
    "To multiply matrices we need **dot product**.\n",
    "\n",
    "The **`Dot Product`** is where we multiply _matching members_ from each corresponding row --> column, then sum them up:\n",
    "\n",
    "\n",
    "<img width=\"55%\" align=\"left\" src=\"./images/vector multiply.png\">\n",
    "<br><br>\n",
    "   \n",
    "\n",
    "We match the 1st members (**`1 & 7`**), multiply them, likewise for the 2nd members (**`2 & 9`**) and the 3rd members (**`3 & 11`**), and finally sum them up!  \n",
    "\n",
    "....but when we add another dimension, it gets a little more complicated....\n",
    "\n"
   ]
  },
  {
   "cell_type": "markdown",
   "metadata": {
    "colab": {},
    "colab_type": "code",
    "id": "QlZ2zs5jt-QK"
   },
   "source": [
    "## Matrix multiplication part II\n",
    "\n",
    "&nbsp;&nbsp;\n",
    "\n",
    "### Given two matrices `A` and `B`, we proceed in a specific order:  \n",
    "\n",
    "\n",
    "<br>\n",
    "<img width=\"35%\" align=\"center\" src=\"./images/matrix math start.png\">\n",
    "\n",
    "\n",
    "\n",
    "&nbsp;&nbsp;\n",
    "\n",
    "### `Step 1:` Multiply the elements in the first row of `A` with the elements in the first column of `B`.  Add these together to get the element C (_the first entry in the answer_):\n",
    "\n",
    "&nbsp;&nbsp;\n",
    "\n",
    "<img width=\"70%\" align=\"center\" src=\"./images/matrix math step 1.png\">\n",
    "\n",
    "\n",
    "&nbsp;&nbsp;\n",
    "\n",
    "### `Step 2:` Multiply the elements in the first row of `A` with the corresponding elements in the second column of `B`. Add the products to get the element C<sub>1,2</sub>  (_the second entry in the answer_):\n",
    "\n",
    "&nbsp;&nbsp;\n",
    "\n",
    "<img width=\"70%\" align=\"center\" src=\"./images/matrix math step 2.png\">\n",
    "\n",
    "&nbsp;&nbsp;\n",
    "\n",
    "### `Step 3:` Multiply the elements in the second row of `A` with the elements in the first column of `B`.  Add these together to get the element C<sub>2,1</sub> (_the third entry in the answer_):\n",
    "\n",
    "&nbsp;&nbsp;\n",
    "\n",
    "<img width=\"70%\" align=\"center\" src=\"./images/matrix math step 3.png\">\n",
    "\n",
    "\n",
    "&nbsp;&nbsp;\n",
    "\n",
    "### `Step 4:` Multiply the elements in the second row of `A` with the elements in the second column of `B`.  Add these together to get the element C<sub>2,2</sub> (_the final entry in the answer_):\n",
    "\n",
    "&nbsp;&nbsp;\n",
    "\n",
    "\n",
    "<img width=\"70%\" align=\"center\" src=\"./images/matrix math step 4.png\">\n",
    "\n",
    "\n",
    "&nbsp;&nbsp;\n",
    "\n",
    "### So the product of `A` * `B` is:\n",
    "\n",
    "&nbsp;&nbsp;\n",
    "\n",
    "\n",
    "<img width=\"35%\" align=\"center\" src=\"./images/matrix math step final.png\">\n",
    "<br>\n",
    "<br>\n",
    "<br>\n",
    "<br>"
   ]
  },
  {
   "cell_type": "markdown",
   "metadata": {},
   "source": [
    " "
   ]
  },
  {
   "cell_type": "markdown",
   "metadata": {
    "colab_type": "text",
    "id": "x4rrRN6Gu9_U"
   },
   "source": [
    "## But there are _rules:_ **Do not forget the order of matrices!**\n",
    "\n",
    "### Two matrices can only be multiplied if the **columns** of one matrix match the **rows** of another matrix.  \n",
    "\n",
    "#### Let's  say `A`=(2,3) then `B` has to have the shape with number of rows=3 (_`B` can be (3,4) or (3,whatever)_)\n",
    "\n",
    "\n",
    "&nbsp;&nbsp;\n",
    "\n",
    "\n",
    "<img width=\"35%\" align=\"center\" src=\"./images/Matrix Dimension Match.png\">\n",
    "<br>\n",
    "<br>\n",
    "<br>\n",
    "<br>\n",
    "\n",
    "\n",
    "#### If this order is mismatched , you cannot multiply the 2 matrices.  \n",
    "\n",
    "**No match = no go.**  In the image below, we do not have a **third row** in the second matrix to match up with the numbers in the **third column** of the first matrix -- so the products for those values in the result matrix would be **\"undefined\"** -- there's nothing for those numbers to be multiplied with. \n",
    "&nbsp;&nbsp;\n",
    "\n",
    "\n",
    "<img width=\"35%\" align=\"center\" src=\"./images/Matrix Dimension Mismatch.png\">\n",
    "\n",
    "\n",
    "&nbsp;\n",
    "&nbsp;\n",
    "\n",
    "____\n",
    "\n",
    "### **Points to Remember!**\n",
    "\n",
    "1. The number of **columns** in the **`left matrix`** must equal the number of **rows** in the **`right matrix`**.\n",
    "2. The answer matrix always has the `same number of rows as the left matrix` and the `same number of columns as the right matrix`.\n",
    "3. **Order matters.** Multiplying A•B is not the same as multiplying B•A.\n",
    "4. Data in the left matrix should be arranged as rows., while data in the right matrix should be arranged as columns.  \n",
    "\n",
    "&nbsp;\n",
    "\n",
    "_**FYI:**_  \n",
    "\n",
    "\n",
    "There is a matrix called identity matrix in which only diagonal elements are 1 and 0 elsewhere.\n",
    "\n",
    "\n",
    "\n"
   ]
  },
  {
   "cell_type": "code",
   "execution_count": null,
   "metadata": {
    "colab_type": "text",
    "id": "kke0nefyv4iU"
   },
   "outputs": [],
   "source": []
  },
  {
   "cell_type": "markdown",
   "metadata": {
    "colab_type": "text",
    "id": "rXoOLqLQxHxm"
   },
   "source": [
    "## Probability \n",
    "\n",
    "Again, [Stanford CS229 Review Notes PDF](http://cs229.stanford.edu/section/cs229-prob.pdf) comes to rescue.  If visulaizations are more your speed, the [Seeing Theory](https://seeing-theory.brown.edu/) website is _**amaizing**_. \n",
    "\n"
   ]
  },
  {
   "cell_type": "markdown",
   "metadata": {
    "colab_type": "text",
    "id": "ggnxYyeuxa23"
   },
   "source": [
    "1. The probability of any specific event is between 0 and 1 (inclusive). The sum of total probabilities of an event cannot exceed 1, that is, 0 <= p(x) <= 1.\n",
    "\n",
    "2. Probability is all about the _**possibility**_ of various outcomes. The set of `all\n",
    "   possible outcomes` is called the **sample space**. e.g. The **sample space** for a coin flip is `{heads, tails}`.\n",
    "\n",
    "3. A `random variable X`, is a **variable** which takes on **`randomly chosen values from a sample space`**. When playing with random variables each outcome is equally likely to occur."
   ]
  },
  {
   "cell_type": "markdown",
   "metadata": {
    "colab_type": "text",
    "id": "oao9Kf5azile"
   },
   "source": [
    "## Distributions \n",
    "\n",
    "\n",
    "#### As a Reminder:  _`continuous`_ vs _`discrete`_ values:\n",
    "\n",
    "Values that can be anything between a **range** are **continuous**. Values that are specified or complete (**countable**) are **discrete**."
   ]
  },
  {
   "cell_type": "code",
   "execution_count": null,
   "metadata": {},
   "outputs": [],
   "source": []
  },
  {
   "cell_type": "markdown",
   "metadata": {
    "colab_type": "text",
    "id": "7LHBnXd5zzwQ"
   },
   "source": [
    "## 1. Bernoulli Distribution \n",
    "\n",
    "The simplest **discreet** probability distribution consisting of only 2 possible outcomes/values in a **single** experiment:  \n",
    "\n",
    "0 & 1 (_or the parameters p & q_). **0(q)** = `false|failure|no` &  **1(p)** = `true|success|yes`\n",
    "\n",
    "\n",
    "<br><br>\n",
    "<img width=\"90%\" align=\"left\" src=\"./images/Bernoulli.png\">\n",
    "\n",
    "\n",
    "&nbsp;\n"
   ]
  },
  {
   "cell_type": "markdown",
   "metadata": {},
   "source": [
    "## 2. Uniform Distribution\n",
    "\n",
    "\n",
    " The simplest **continuous** probability distribution.  Unlike the Bernoulli distribution above -- which models **one** experiment -- this distribution represents a _**range**_ of infinite numbers(outcomes) all _**equally likely.**_\n",
    " \n",
    " <br><br>\n",
    "<img width=\"90%\" align=\"left\" src=\"./images/Uniform.png\">\n",
    "\n"
   ]
  },
  {
   "cell_type": "code",
   "execution_count": null,
   "metadata": {},
   "outputs": [],
   "source": []
  },
  {
   "cell_type": "markdown",
   "metadata": {
    "colab_type": "text",
    "id": "6hCGbYWP1ns8"
   },
   "source": [
    "## 3. Binomial Distribution\n",
    "\n",
    "The **Binomial distribution** is a _**superset**_ of the **Bernoulli distribution**. When we have to calculate the possibilities of **same event** occurring more than once we head towards a **binomial distribution** with the results. Here (_as with Bernoulli_) there are two possible outcomes (1 & 0) but every trial is **independent** of another in its probably outcome. A binomial distribution that only includes **one** trial is a **Bernoulli distribution**.\n",
    "\n",
    "\n",
    "https://math.stackexchange.com/questions/838107/what-is-the-difference-and-relationship-between-the-binomial-and-bernoulli-distr\n",
    "\n",
    "\n",
    "<br><br>\n",
    "<img width=\"90%\" align=\"left\" src=\"./images/Binomial.png\">\n",
    "\n",
    "\n",
    "&nbsp;\n"
   ]
  },
  {
   "cell_type": "code",
   "execution_count": null,
   "metadata": {},
   "outputs": [],
   "source": []
  },
  {
   "cell_type": "markdown",
   "metadata": {
    "colab_type": "text",
    "id": "MrLoRSvi4ziT"
   },
   "source": [
    "## 4. Normal (Gaussian | Laplace-Gauss) Distribution\n",
    "\n",
    "Is a bell shaped **continuous** distribution in which the mean, median, & mode are equal to one another (_..time to Google these terms.._ :) ).  \n",
    "\n",
    "The number of values falling to the left-hand & right-hand of this distribution are _**equal**_,  which makes this distribution _**symmetrical**_.  If you look closer at how the values are distributed, most are centered at or near the peak, with fewer values the further we travel from the **median**. \n",
    "\n",
    "We'll be using this distribution very often throughout this study group.\n",
    "\n",
    "<br><br>\n",
    "<img width=\"90%\" align=\"left\" src=\"./images/Gaussian Distibution corrected.png\">\n",
    "\n",
    "\n",
    "&nbsp;\n",
    "\n"
   ]
  },
  {
   "cell_type": "code",
   "execution_count": null,
   "metadata": {},
   "outputs": [],
   "source": []
  },
  {
   "cell_type": "markdown",
   "metadata": {
    "colab_type": "text",
    "id": "f9lU3ZaN6Aj9"
   },
   "source": [
    "## 5. Poissons Distribution\n",
    "\n",
    "Similar to the **Binomial** distribution in that all the events are _**independent of each other**_.\n",
    "_So what's the difference?_\n",
    "\n",
    "Remember **continuous** vs **discrete** ? \n",
    "\n",
    "The **Binomial** is based on **discrete events**, while the **Poisson** is based on **continuous events**.\n",
    "\n",
    "To Break it down further --> The **Binomial** distribution is based on events that have a _**fixed number of attempts**_, The Poisson distribution is based on events that have an _**infinite number of attempts**_, in a **fixed amount of time**.\n",
    "\n",
    "Poisson distributions are most often used to model events that could happen a very large number of times -- but happen _rarely_ -- or spaced in intervals such as distance, area or volume.  Think meteor showers, bus arrivals, subscription renewals - anything that happens/repeats in a _cycle_.\n",
    "\n",
    "<br><br>\n",
    "<img width=\"90%\" align=\"left\" src=\"./images/Poisson.png\">\n",
    "\n",
    "\n",
    "&nbsp;\n",
    "\n"
   ]
  },
  {
   "cell_type": "markdown",
   "metadata": {
    "colab_type": "text",
    "id": "6T173NHp6vad"
   },
   "source": [
    "Further reading :\n",
    "\n",
    "\n",
    "\n",
    "https://www.analyticsvidhya.com/blog/2017/09/6-probability-distributions-data-science/"
   ]
  },
  {
   "cell_type": "markdown",
   "metadata": {
    "colab_type": "text",
    "id": "r79VIdwaAVmr"
   },
   "source": [
    "# **Exercises**"
   ]
  },
  {
   "cell_type": "markdown",
   "metadata": {
    "colab_type": "text",
    "id": "MY89DOcOAi4t"
   },
   "source": [
    "*Practice makes a woman perfect!*\n",
    "\n",
    "\n",
    "Here's a list of some cool exercises so that you can apply what you've learnt!\n",
    "\n",
    "1. **Some Linear Algebra Fun** : https://www.albert.io/linear-algebra\n",
    "\n",
    "2. **Remember multiplication of matrices is important?** :https://www.intmath.com/matrices-determinants/4-multiplying-matrices.php"
   ]
  },
  {
   "cell_type": "code",
   "execution_count": null,
   "metadata": {
    "colab": {},
    "colab_type": "code",
    "id": "x3xymmlF6zbH"
   },
   "outputs": [],
   "source": []
  },
  {
   "cell_type": "code",
   "execution_count": null,
   "metadata": {},
   "outputs": [],
   "source": []
  }
 ],
 "metadata": {
  "colab": {
   "collapsed_sections": [
    "r79VIdwaAVmr"
   ],
   "name": "Maths for ML-1.ipynb",
   "provenance": []
  },
  "kernelspec": {
   "display_name": "Python 3",
   "language": "python",
   "name": "python3"
  },
  "language_info": {
   "codemirror_mode": {
    "name": "ipython",
    "version": 3
   },
   "file_extension": ".py",
   "mimetype": "text/x-python",
   "name": "python",
   "nbconvert_exporter": "python",
   "pygments_lexer": "ipython3",
   "version": "3.7.3"
  }
 },
 "nbformat": 4,
 "nbformat_minor": 1
}
