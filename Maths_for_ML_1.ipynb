{
 "cells": [
  {
   "cell_type": "markdown",
   "metadata": {
    "colab_type": "text",
    "id": "_U4_1x2vjz-W"
   },
   "source": [
    "\n",
    "\n",
    "                                            \n",
    " #       **Mathematics for Machine Learning** - Part I\n",
    "\n",
    "\n",
    "\n"
   ]
  },
  {
   "cell_type": "markdown",
   "metadata": {
    "colab_type": "text",
    "id": "YnbnuXZUkJaK"
   },
   "source": [
    "Before we move onto `NumPy`, `Pandas`, & the whole \"Scientific Python Stack\", we think it would be good to get familiar with some of the underlying **mathematics for ML.**  \n",
    "\n",
    "\n",
    "_**Please don't worry or panic!**_.  Yes - these can be very complex topics, but you don't have to master them in their _entirety_ to get benifit from them, or to use the principals & equations effectivly.  Additionally, we can always decide to deleve deeper into particular topics, if you need clarification or want more!\n",
    "\n",
    "\n",
    "&nbsp;\n",
    "_____\n",
    "\n",
    "### At the Heart:  Random Variables\n",
    "\n",
    "The \"learning\" part of Machine Learning leverages `Random Variables`.    \n",
    "\n",
    "In probability & statistics, a `Random Variable` is a type of _**variable**_ whose value is subject to _**variations**_ due to  mathematical _**chance**_ (in other words probability -- that's the 'random' part). In contrast to other programming or mathematical variables (_where a variable represents a **single** unknown or assigned value or data structure_), a `Random Variable` can take on an entire _**set of possible different values**_ -- each of which carries an associated probability (odds, chance) of it happening.\n",
    "\n",
    "&nbsp;\n",
    "\n",
    "A `Random Variable’s` _**possible values**_ might represent the _**possible outcomes**_ of a yet-to-be-performed experiment, or the _**possible outcomes**_ of an experiment whose already-existing values are uncertain (for example -- the a result of incomplete information). \n",
    "\n",
    "`Random Variables ` can also represent either the results of\n",
    "\n",
    "1.  An _**objectively random**_ process (_think rolling dice, spinning roulette, or a 'random walk'_)\n",
    "2.  A _**subjective random process**_ resulting from incomplete knowledge of a quantity or outcome (_What is the probability it will rain today & I'll need my umbrella??, If I surf in the Pacific, what are the chances of shark attack?, What are the chances that my Jelly Belly bag will have 53 red Jelly Beans?_).\n",
    "\n",
    "\n",
    "\n",
    "\n",
    "\n",
    "`Random Variables` can further be classified as either _**discrete**_ or as _**continuous**_ \n",
    "\n",
    "<br><br>\n",
    "<img width=\"60%\" src=\"./images/Random Variables.png\">\n",
    "\n",
    "<br><br>\n",
    "\n",
    "A **Discrete Random Variable** represents a *countable* number of *distinct values* and can thus be **_quantified_**. `Random Variable`**`R`** can be defined as the number that comes up when you roll a \"Fair Dice\". \n",
    "**`R`** can take on any of the _**possible values**_ of **`[1,2,3,4,5,6]`** (_each of which has a probability of happening of 1/6 or 0.167 of the time_). Each potential outcome is **_distinct_**, & all possible outcomes are **_enumerated_** (countable):\n",
    "\n",
    "<br><br>\n",
    "<img src=\"./images/Discrete RV.png\">\n",
    "\n",
    "&nbsp;\n",
    "\n",
    "In contrast, a **Continuous Random Variable** represents an _infinite number_ of possible values (uncountable). These values are drawn from an **interval** or **collection of intervals**. `Random Variable`**`R`** here can represent the potential height of students in a class -- all of which fall within a curve-shaped set of intervals -- but could be any one of an _infinite set_ of specific numbers. The probability (_chance_) of a specific student having a height that falls in a given interval is represented by the area under a section of the curve.\n",
    "\n",
    "<br><br>\n",
    "<img width=\"90%\" align=\"center\" src=\"./images/Normal Curve w Random Variable.png\">\n",
    "\n",
    "\n",
    "&nbsp;\n",
    "\n",
    "\n",
    "The mathematical function (_formula, equation_) describing the possible values of a discreet or continuous `Random Variable` and the associated probabilities of each outcome is known as a _**probability distribution**_ or _**statistical distribution**_.  Since all random functions, variables, & operations are based on these **_statistical distributions_** we're going to cover some of the more common and useful ones in this session.\n",
    "\n",
    "&nbsp;\n",
    "\n",
    "We'll also go through some ***derivatives*** -- which is a facy way of saying equations that calculate the slope of a line that intersects a curve at a specific point -- they're one of the most important building blocks of ML algorithms -- used for things like _**Cost functions**_, & _**gradient descent**_.\n",
    "\n",
    "&nbsp;\n",
    "\n",
    "In the next session we'll dive deeper into probability, statistical concepts & derivatives. In this one let's unveil equations, matrix, introductory probability & common dstributions.\n",
    "\n",
    "_**Let's get started !**_\n"
   ]
  },
  {
   "cell_type": "markdown",
   "metadata": {
    "colab_type": "text",
    "id": "vmYFJ4G4lmKK"
   },
   "source": [
    "## Some Mathematical Refreshers \n",
    "\n",
    "1.  [Simple Learn Math Refresher](https://www.simplilearn.com/math-refresher-machine-learning-tutorial)\n",
    "2.  [Edx.org Essential Math for ML](https://www.edx.org/course/essential-math-for-machine-learning-python-edition)\n",
    "3.  [Mathematics for Machine Learning Book](https://mml-book.github.io/)"
   ]
  },
  {
   "cell_type": "markdown",
   "metadata": {
    "colab_type": "text",
    "id": "mIH8PFqOmuqp"
   },
   "source": [
    "## Where to find help?\n",
    "\n",
    "1. Khan Academy- The best place for clear explanations!\n",
    "   * [Variables](https://www.khanacademy.org/math/algebra/introduction-to-algebra/alg1-intro-to-variables/v/what-is-a-variable)  \n",
    "   * [Coefficients](https://www.khanacademy.org/math/cc-sixth-grade-math/cc-6th-equivalent-exp/cc-6th-parts-of-expressions/v/expression-terms-factors-and-coefficients)\n",
    "   * [Functions](https://www.khanacademy.org/math/algebra/algebra-functions)\n",
    "   * [Linear equations](https://wikipedia.org/wiki/Linear_equation)\n",
    "   * [The Sigmoid function](https://wikipedia.org/wiki/Sigmoid_function)\n",
    "   * [Linear Algebra](https://www.khanacademy.org/math/linear-algebra)\n",
    "   * [Multivariable Calculus](https://www.khanacademy.org/math/multivariable-calculus)\n",
    "   * [Statistics & Probability](https://www.khanacademy.org/math/statistics-probability)\n",
    "  \n",
    "\n",
    "2. [Stanford CS229 Review Notes](http://cs229.stanford.edu/section/cs229-linalg.pdf) \n",
    "\n",
    "3. [3Blue1Brown YouTube](https://www.youtube.com/channel/UCYO_jab_esuFRV4b17AJtAw)\n",
    "   _This you-tube channel is a good place to dive deep with great visualizations._\n",
    "\n",
    "4. [Coursera Mathematics for ML Specialization](https://www.coursera.org/specializations/mathematics-machine-learning)\n",
    "   _This is the \"long path\" but worth it & very beneficial in long run_ \n",
    "\n",
    "\n",
    "\n",
    "\n",
    "#### Having Doubts?? \n",
    "\n",
    "Well that's why we have our slack channel, drop your doubt there ;-) \n",
    "\n"
   ]
  },
  {
   "cell_type": "markdown",
   "metadata": {
    "colab_type": "text",
    "id": "eKUxor5ao77e"
   },
   "source": [
    "**Advice :** Start reading about the topics below & dig in further with the resources as required."
   ]
  },
  {
   "cell_type": "code",
   "execution_count": 0,
   "metadata": {
    "colab": {},
    "colab_type": "code",
    "id": "DBGOnpCTg5mW"
   },
   "outputs": [],
   "source": []
  },
  {
   "cell_type": "markdown",
   "metadata": {
    "colab_type": "text",
    "id": "bxpgMgnTpaGq"
   },
   "source": [
    "# Equations\n",
    "\n",
    "An equation is a combination of n variables. Variables (a,b,x,y) are the terms which do not have any fixed value unlike constants(3,5,1,8).\n",
    "\n",
    "We combine variables and constants using some mathematical operations (+,-,*,/) to create equations.\n",
    "\n",
    "A linear equation is an equation having single power variables .\n",
    "\n",
    "a1x1 + a2x2 + ... + anxn = b\n",
    "\n",
    "On the other hand a polynomial equation will have powers of variables more than 1.\n",
    "\n",
    "a1x1^2 + a2x2^3 + ... + anxn = b\n",
    "\n",
    "\n",
    "Here power =degree and degree is the highest exponent of the polynomial."
   ]
  },
  {
   "cell_type": "markdown",
   "metadata": {
    "colab_type": "text",
    "id": "NMHHlQqrq-N8"
   },
   "source": [
    "## Matrix\n",
    "\n",
    "\n",
    "https://www.khanacademy.org/math/algebra-home/alg-matrices\n",
    "\n",
    "Matrix is nothing but an array.It consists of rows and columns.Arrays are nothing but a table of elements of same data types.\n",
    "\n",
    "Vectors are one-D arrays and matrices are multi-dimensional arrays.\n",
    "\n",
    "No of dimensions = Rank\n",
    "\n",
    "Shape of the array = Shape \n",
    "\n",
    "\n",
    "There are operations that can be performed on matrices such as addition,subtraction etc . And intuitively that is pretty straightforward.\n",
    "Every element in one array is operated with the corresponding element of another array when performing matrix operations .\n",
    "\n"
   ]
  },
  {
   "cell_type": "markdown",
   "metadata": {
    "colab_type": "text",
    "id": "IL78KoYitRZs"
   },
   "source": [
    "You can  take a look on addition and subtracton yourself, we will cover the multiplication.\n"
   ]
  },
  {
   "cell_type": "code",
   "execution_count": 0,
   "metadata": {
    "colab": {},
    "colab_type": "code",
    "id": "SGmYNAZgq8T1"
   },
   "outputs": [],
   "source": []
  },
  {
   "cell_type": "markdown",
   "metadata": {
    "colab_type": "text",
    "id": "8mAbqWNBt7Vz"
   },
   "source": [
    "## Matrix multiplication\n",
    "\n",
    "To multiply matrices we need dot product.\n",
    "\n",
    "The \"Dot Product\" is where we multiply matching members, then sum up:\n",
    "\n",
    "(1, 2, 3) • (7, 9, 11) = 1×7 + 2×9 + 3×11\n",
    "    = 58\n",
    "\n",
    "We match the 1st members (1 and 7), multiply them, likewise for the 2nd members (2 and 9) and the 3rd members (3 and 11), and finally sum them up.\n",
    "\n"
   ]
  },
  {
   "cell_type": "code",
   "execution_count": 0,
   "metadata": {
    "colab": {},
    "colab_type": "code",
    "id": "QlZ2zs5jt-QK"
   },
   "outputs": [],
   "source": []
  },
  {
   "cell_type": "markdown",
   "metadata": {
    "colab_type": "text",
    "id": "x4rrRN6Gu9_U"
   },
   "source": [
    "## **Do not forget the order of matrices**\n",
    "\n",
    "Two matrices can only be multiplied if the columns of one matrix match the rows of another matrix.\n",
    "\n",
    "Let's  say A=(2,3) then B has to have the shape with number of rows=3.\n",
    "\n",
    "For eg B can be (3,4) or (3,whatever)\n",
    "\n",
    "If this order is mismatched , you can not multiply 2 matrices."
   ]
  },
  {
   "cell_type": "markdown",
   "metadata": {
    "colab_type": "text",
    "id": "kke0nefyv4iU"
   },
   "source": [
    "FYI:\n",
    "\n",
    "There is a matrix called identity matrix in which only diagonal elements are 1 and 0 elsewhere."
   ]
  },
  {
   "cell_type": "markdown",
   "metadata": {
    "colab_type": "text",
    "id": "hRXr7WhvCg34"
   },
   "source": [
    "**Points to be Noted!**\n",
    "\n",
    "1. The number of columns in the left matrix must equal the number of rows in the right matrix.\n",
    "2. The answer matrix always has the same number of rows as the left matrix and the same number of columns as the right matrix.\n",
    "3. Order matters. Multiplying A•B is not the same as multiplying B•A.\n",
    "4. Data in the left matrix should be arranged as rows., while data in the right matrix should be arranged as columns."
   ]
  },
  {
   "cell_type": "code",
   "execution_count": 0,
   "metadata": {
    "colab": {},
    "colab_type": "code",
    "id": "2Q25v2yzvvs2"
   },
   "outputs": [],
   "source": []
  },
  {
   "cell_type": "markdown",
   "metadata": {
    "colab_type": "text",
    "id": "rXoOLqLQxHxm"
   },
   "source": [
    "## Probability \n",
    "\n",
    "Again, [Stanford CS229 Review Notes PDF](http://cs229.stanford.edu/section/cs229-prob.pdf) comes to rescue.  If visulaizations are more your speed, the [Seeing Theory](https://seeing-theory.brown.edu/) website is _**amaizing**_. \n",
    "\n"
   ]
  },
  {
   "cell_type": "markdown",
   "metadata": {
    "colab_type": "text",
    "id": "ggnxYyeuxa23"
   },
   "source": [
    "1. The probability of any specific event is between 0 and 1 (inclusive). The sum of total probabilities of an event cannot exceed 1, that is, 0 <= p(x) <= 1.\n",
    "\n",
    "2. Probability is all about the possibility of various outcomes. The set of all\n",
    "possible outcomes is called the sample space. The sample space for a coin flip is {heads, tails}.\n",
    "\n",
    "3. A random variable x, is a variable which randomly takes on values from a sample space. When playing with random variales each outcome is equally likely to occur."
   ]
  },
  {
   "cell_type": "markdown",
   "metadata": {
    "colab_type": "text",
    "id": "oao9Kf5azile"
   },
   "source": [
    "## Distributions \n",
    "\n",
    "\n",
    "Before that continous and discrete value:\n",
    "\n",
    "Values that can be anything between a range are continous and values specified or complete are discrete values."
   ]
  },
  {
   "cell_type": "code",
   "execution_count": 0,
   "metadata": {
    "colab": {},
    "colab_type": "code",
    "id": "6npa7huBxZSd"
   },
   "outputs": [],
   "source": []
  },
  {
   "cell_type": "markdown",
   "metadata": {},
   "source": [
    "## 1. Uniform Distribution\n",
    "\n",
    "\n",
    " Unlike Bernoulli Distribution, all the n number of possible outcomes of a uniform distribution are equally likely."
   ]
  },
  {
   "cell_type": "code",
   "execution_count": null,
   "metadata": {},
   "outputs": [],
   "source": []
  },
  {
   "cell_type": "markdown",
   "metadata": {
    "colab_type": "text",
    "id": "7LHBnXd5zzwQ"
   },
   "source": [
    "## 2. Bernoulli Distribution \n",
    "\n",
    "The simplest distribution consisting of only 2 possible outcomes or values: 0 and 1.\n",
    "0 if failure and 1 if success .\n",
    "\n",
    "The probability mass function is given by: px(1-p)1-x "
   ]
  },
  {
   "cell_type": "markdown",
   "metadata": {
    "colab_type": "text",
    "id": "6hCGbYWP1ns8"
   },
   "source": [
    "## 3. Binomial Distribution\n",
    "\n",
    "The **Binomial distribution** is a _**superset**_ of the **Bernoulli distribution**. When we have to calculate the possibilities of **same event** occuring more than once we head towards a **binomial distribution** with the results. Here (_as with Bernoulli_) there're two possible outcomes (1 & 0) but every trial is **independent** of another in its probably outcome. A binomial distribution that only includes **one** trial is a **Bernoulli distribution**.\n",
    "\n",
    "\n",
    "https://math.stackexchange.com/questions/838107/what-is-the-difference-and-relationship-between-the-binomial-and-bernoulli-distr\n",
    "\n",
    "\n",
    "<br><br>\n",
    "<img width=\"90%\" align=\"left\" src=\"./images/Binomial.png\">\n",
    "\n",
    "\n",
    "&nbsp;\n"
   ]
  },
  {
   "cell_type": "markdown",
   "metadata": {
    "colab_type": "text",
    "id": "MrLoRSvi4ziT"
   },
   "source": [
    "## 4. Normal (Gaussian | Laplace-Gauss) Distribution\n",
    "\n",
    "Is a bell shaped **continuous** distribution in which the mean, median, & mode are equal to one another (Time to google these terms :) ).  \n",
    "\n",
    "The number of values falling to the left-hand & right-hand of this distribution are _**equal**_,  which makes this distribution _**symmetrical**_. If you look closer at how the values are distributed, most are centered at or near the peak, with fewer values the further we travel from the median. \n",
    "\n",
    "We'll be using this distribution very often throughout this study group.\n",
    "\n",
    "<br><br>\n",
    "<img width=\"90%\" align=\"left\" src=\"./images/Gaussian Distibution corrected.png\">\n",
    "\n",
    "\n",
    "&nbsp;\n",
    "\n"
   ]
  },
  {
   "cell_type": "markdown",
   "metadata": {
    "colab_type": "text",
    "id": "f9lU3ZaN6Aj9"
   },
   "source": [
    "## 5. Poissons Distribution\n",
    "\n",
    "Similar to the Binomial distribution in that all the events are _**independent of each other**_.\n",
    "_So what's the difference?_\n",
    "\n",
    "Remember **continuous** vs **discrete** ? \n",
    "\n",
    "The **Binomial** is based on **discrete events**, while the **Poisson** is based on **continous events**.\n",
    "\n",
    "To Break it down furter --> The Binomial distribution is based on events that have a _**fixed number of attempts**_, The Poisson distribution is based on events that have an _**infinite number of attempts**_.\n",
    "\n",
    "Poisson distributions are moste often used to model events that could happen a very large number of times -- but happen _rarely_ -- or spaced in intervals such as distance, area or volume.  Poisson events ae like "
   ]
  },
  {
   "cell_type": "code",
   "execution_count": 0,
   "metadata": {
    "colab": {},
    "colab_type": "code",
    "id": "31wr03zI05WA"
   },
   "outputs": [],
   "source": []
  },
  {
   "cell_type": "markdown",
   "metadata": {
    "colab_type": "text",
    "id": "6T173NHp6vad"
   },
   "source": [
    "Further reading :\n",
    "\n",
    "\n",
    "\n",
    "https://www.analyticsvidhya.com/blog/2017/09/6-probability-distributions-data-science/"
   ]
  },
  {
   "cell_type": "markdown",
   "metadata": {
    "colab_type": "text",
    "id": "r79VIdwaAVmr"
   },
   "source": [
    "# **Exercises**"
   ]
  },
  {
   "cell_type": "markdown",
   "metadata": {
    "colab_type": "text",
    "id": "MY89DOcOAi4t"
   },
   "source": [
    "*Practise makes a woman perfect!*\n",
    "\n",
    "\n",
    "Here's a list of some cool exercises so that you can apply what you've learnt!\n",
    "\n",
    "1. **Some Linear Algebra Fun** : https://www.albert.io/linear-algebra\n",
    "\n",
    "2. **Remember multiplication of matrices is important?** :https://www.intmath.com/matrices-determinants/4-multiplying-matrices.php"
   ]
  },
  {
   "cell_type": "code",
   "execution_count": 0,
   "metadata": {
    "colab": {},
    "colab_type": "code",
    "id": "x3xymmlF6zbH"
   },
   "outputs": [],
   "source": []
  }
 ],
 "metadata": {
  "colab": {
   "collapsed_sections": [
    "r79VIdwaAVmr"
   ],
   "name": "Maths for ML-1.ipynb",
   "provenance": []
  },
  "kernelspec": {
   "display_name": "Python 3",
   "language": "python",
   "name": "python3"
  },
  "language_info": {
   "codemirror_mode": {
    "name": "ipython",
    "version": 3
   },
   "file_extension": ".py",
   "mimetype": "text/x-python",
   "name": "python",
   "nbconvert_exporter": "python",
   "pygments_lexer": "ipython3",
   "version": "3.7.3"
  }
 },
 "nbformat": 4,
 "nbformat_minor": 1
}
