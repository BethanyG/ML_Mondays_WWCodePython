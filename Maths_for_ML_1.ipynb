{
  "nbformat": 4,
  "nbformat_minor": 0,
  "metadata": {
    "colab": {
      "name": "Maths for ML-1.ipynb",
      "provenance": [],
      "collapsed_sections": [
        "r79VIdwaAVmr"
      ],
      "include_colab_link": true
    },
    "kernelspec": {
      "name": "python3",
      "display_name": "Python 3"
    }
  },
  "cells": [
    {
      "cell_type": "markdown",
      "metadata": {
        "id": "view-in-github",
        "colab_type": "text"
      },
      "source": [
        "<a href=\"https://colab.research.google.com/github/BethanyG/ML_Mondays_WWCodePython/blob/master/Maths_for_ML_1.ipynb\" target=\"_parent\"><img src=\"https://colab.research.google.com/assets/colab-badge.svg\" alt=\"Open In Colab\"/></a>"
      ]
    },
    {
      "cell_type": "markdown",
      "metadata": {
        "id": "_U4_1x2vjz-W",
        "colab_type": "text"
      },
      "source": [
        "\n",
        "\n",
        "                                            \n",
        " #       **Mathematics for Machine Learning** - Part I\n",
        "\n",
        "\n",
        "\n"
      ]
    },
    {
      "cell_type": "markdown",
      "metadata": {
        "id": "YnbnuXZUkJaK",
        "colab_type": "text"
      },
      "source": [
        "Before we move onto `NumPy`, `Pandas`, & the whole \"Scientific Python Stack\", we think it would be good to get familiar with some of the underlying **mathematics for ML.**\n",
        "\n",
        "&nbsp;\n",
        "\n",
        "_**Please don't worry or panic!**_.  Yes - these can be very complex topics, but you don't have to master them in their _entirety_ to get benifit from them, or to use the principals & equations effectivly.  Additionally, we can always decide to deleve deeper into particular topics, if you need clarification or want more!\n",
        "\n",
        "\n",
        "&nbsp;\n",
        "\n",
        "###**At the Heart:  Random Variables**\n",
        "\n",
        "The \"learning\" part of Machine Learning leverages `Random Variables`.    \n",
        "\n",
        "In probability & statistics, a `Random Variable` is a type of _**variable**_ whose value is subject to _**variations**_ due to  mathematical _**chance**_ (in other words probability -- that's the 'random' part). \n",
        "\n",
        "\n",
        "&nbsp;\n",
        "\n",
        "In contrast to other programming or mathematical variables (_where a variable represents a **single** unknown or assigned value or data structure_), a `Random Variable` can take on an entire _**set of possible different values**_ -- each of which carries an associated probability (odds, chance) of it happening.\n",
        "\n",
        "&nbsp;\n",
        "\n",
        "A `Random Variable’s` _**possible values**_ might represent the _**possible outcomes**_ of a yet-to-be-performed experiment, or the _**possible outcomes**_ of an experiment whose already-existing values are uncertain (for example -- the a result of incomplete information). `Random Variables ` can also represent either the results of an _**objectively random**_ process (_think rolling dice, spinning roulette, or a 'random walk'_), or  _**subjective random process**_ resulting from incomplete knowledge of a quantity or outcome (_What is the probability it will rain today & I'll need my umbrella??, If I surf in the Pacific, what are the chances of shark attack?, What are the chances that my bag Jelly Belly bag will have 53 red Jelly Beans?_).\n",
        "\n",
        "&nbsp;\n",
        "\n",
        "`Random Variables` can further be classified as either _**discrete**_ or as _**continuous**_ \n",
        "\n",
        "&nbsp;\n",
        "\n",
        "A **Discrete Random Variable** represents a _countable_ number of _distinct values_ and can thus be _**quantified**_.   For example, `Random Variable` **R** can be defined as the number that comes up when you roll a \"Fair Dice\". So **R** can take the _**possible values**_ of **`[1,2,3,4,5,6]`** (_each of which has a probability of happening of 1/6 or 0.167 of the time_). Each potential outcome is _**distinct**_, & all possible outcomes are _**enumerated**_ (countable).\n",
        "\n",
        "&nbsp;\n",
        "\n",
        "In contrast, a **Continuous Random Variable** represents an _infinite number_ of possible values (uncountable). These values are drawn from an **interval** or **collection of intervals**.  \n",
        "\n",
        "\n",
        "![alt text](https://github.com/BethanyG/ML_Mondays_WWCodePython/blob/master/images/Normal%20Curve.png)\n",
        "\n",
        "\n",
        "For example, `Random Variable` **R** can represent the potential height of students in a class -- all of which fall within a \"bell curve\" or \"normal curve\" shaped set of intervals, but could be any one of an _infinite set_ of specific numbers. The probability (chance) of a specific student having a height that falls in a given interval is represented by the area under a section (interval) of the curve.\n",
        "\n",
        "\n",
        "\n",
        "&nbsp;\n",
        "\n",
        "The mathematical function (_formula, equation_) describing the possible values of a discreet or continuous `Random Variable` and the associated probabilities of each outcome is known as a _**probability distribution**_ or _**statistical distribution**_.\n",
        "\n",
        "&nbsp;\n",
        "\n",
        "Since all random functions, variables, & operations are based on these **_statistical distributions_** we're going to cover some of the more common and usefule ones in this session.\n",
        "\n",
        "&nbsp;\n",
        "\n",
        "We'll also go through some ***derivatives*** (they're one of the most important building blocks of ML algorithms -- used for thinkgs like _**Cost functions**_, & _**gradient descent**_).\n",
        "\n",
        "&nbsp;\n",
        "\n",
        "In the next session we'll dive deeper into statistical concepts and derivatives. In this one let's unveil equations,matrix,probability and dstributions.\n",
        "\n",
        "Let's get started !\n"
      ]
    },
    {
      "cell_type": "markdown",
      "metadata": {
        "id": "vmYFJ4G4lmKK",
        "colab_type": "text"
      },
      "source": [
        "## Mathematical Refresher \n",
        "\n",
        "https://www.simplilearn.com/math-refresher-machine-learning-tutorial"
      ]
    },
    {
      "cell_type": "markdown",
      "metadata": {
        "id": "mIH8PFqOmuqp",
        "colab_type": "text"
      },
      "source": [
        "## Where to find help?\n",
        "\n",
        "1. Khan Academy-Best place for clear explanations:https://www.khanacademy.org/math/linear-algebra\n",
        "\n",
        "2. Review Notes from Stanford :http://cs229.stanford.edu/section/cs229-linalg.pdf \n",
        "\n",
        "\n",
        "3. 3Blue1Brown- https://www.youtube.com/channel/UCYO_jab_esuFRV4b17AJtAw\n",
        "\n",
        "This you-tube channel is a good place to dive deep with great visualizations.\n",
        "\n",
        "4. Coursera- https://www.coursera.org/specializations/mathematics-machine-learning\n",
        "\n",
        "Long path but worth it and beneficial in long run \n",
        "\n",
        "\n",
        "\n",
        "\n",
        "*   Doubts?? \n",
        "\n",
        "Well that's why we have our slack channel, drop your doubt there :)\n",
        "\n"
      ]
    },
    {
      "cell_type": "markdown",
      "metadata": {
        "id": "eKUxor5ao77e",
        "colab_type": "text"
      },
      "source": [
        "Advice : Start reading about the topics below and dig in further as required."
      ]
    },
    {
      "cell_type": "code",
      "metadata": {
        "id": "DBGOnpCTg5mW",
        "colab_type": "code",
        "colab": {}
      },
      "source": [
        ""
      ],
      "execution_count": 0,
      "outputs": []
    },
    {
      "cell_type": "markdown",
      "metadata": {
        "id": "bxpgMgnTpaGq",
        "colab_type": "text"
      },
      "source": [
        "# Equations\n",
        "\n",
        "An equation is a combination of n variables. Variables (a,b,x,y) are the terms which do not have any fixed value unlike constants(3,5,1,8).\n",
        "\n",
        "We combine variables and constants using some mathematical operations (+,-,*,/) to create equations.\n",
        "\n",
        "A linear equation is an equation having single power variables .\n",
        "\n",
        "a1x1 + a2x2 + ... + anxn = b\n",
        "\n",
        "On the other hand a polynomial equation will have powers of variables more than 1.\n",
        "\n",
        "a1x1^2 + a2x2^3 + ... + anxn = b\n",
        "\n",
        "\n",
        "Here power =degree and degree is the highest exponent of the polynomial."
      ]
    },
    {
      "cell_type": "markdown",
      "metadata": {
        "id": "NMHHlQqrq-N8",
        "colab_type": "text"
      },
      "source": [
        "## Matrix\n",
        "\n",
        "\n",
        "https://www.khanacademy.org/math/algebra-home/alg-matrices\n",
        "\n",
        "Matrix is nothing but an array.It consists of rows and columns.Arrays are nothing but a table of elements of same data types.\n",
        "\n",
        "Vectors are one-D arrays and matrices are multi-dimensional arrays.\n",
        "\n",
        "No of dimensions = Rank\n",
        "\n",
        "Shape of the array = Shape \n",
        "\n",
        "\n",
        "There are operations that can be performed on matrices such as addition,subtraction etc . And intuitively that is pretty straightforward.\n",
        "Every element in one array is operated with the corresponding element of another array when performing matrix operations .\n",
        "\n"
      ]
    },
    {
      "cell_type": "markdown",
      "metadata": {
        "id": "IL78KoYitRZs",
        "colab_type": "text"
      },
      "source": [
        "You can  take a look on addition and subtracton yourself, we will cover the multiplication.\n"
      ]
    },
    {
      "cell_type": "code",
      "metadata": {
        "id": "SGmYNAZgq8T1",
        "colab_type": "code",
        "colab": {}
      },
      "source": [
        ""
      ],
      "execution_count": 0,
      "outputs": []
    },
    {
      "cell_type": "markdown",
      "metadata": {
        "id": "8mAbqWNBt7Vz",
        "colab_type": "text"
      },
      "source": [
        "## Matrix multiplication\n",
        "\n",
        "To multiply matrices we need dot product.\n",
        "\n",
        "The \"Dot Product\" is where we multiply matching members, then sum up:\n",
        "\n",
        "(1, 2, 3) • (7, 9, 11) = 1×7 + 2×9 + 3×11\n",
        "    = 58\n",
        "\n",
        "We match the 1st members (1 and 7), multiply them, likewise for the 2nd members (2 and 9) and the 3rd members (3 and 11), and finally sum them up.\n",
        "\n"
      ]
    },
    {
      "cell_type": "code",
      "metadata": {
        "id": "QlZ2zs5jt-QK",
        "colab_type": "code",
        "colab": {}
      },
      "source": [
        ""
      ],
      "execution_count": 0,
      "outputs": []
    },
    {
      "cell_type": "markdown",
      "metadata": {
        "id": "x4rrRN6Gu9_U",
        "colab_type": "text"
      },
      "source": [
        "## **Do not forget the order of matrices**\n",
        "\n",
        "Two matrices can only be multiplied if the columns of one matrix match the rows of another matrix.\n",
        "\n",
        "Let's  say A=(2,3) then B has to have the shape with number of rows=3.\n",
        "\n",
        "For eg B can be (3,4) or (3,whatever)\n",
        "\n",
        "If this order is mismatched , you can not multiply 2 matrices."
      ]
    },
    {
      "cell_type": "markdown",
      "metadata": {
        "id": "kke0nefyv4iU",
        "colab_type": "text"
      },
      "source": [
        "FYI:\n",
        "\n",
        "There is a matrix called identity matrix in which only diagonal elements are 1 and 0 elsewhere."
      ]
    },
    {
      "cell_type": "markdown",
      "metadata": {
        "id": "hRXr7WhvCg34",
        "colab_type": "text"
      },
      "source": [
        "**Points to be Noted!**\n",
        "\n",
        "1. The number of columns in the left matrix must equal the number of rows in the right matrix.\n",
        "2. The answer matrix always has the same number of rows as the left matrix and the same number of columns as the right matrix.\n",
        "3. Order matters. Multiplying A•B is not the same as multiplying B•A.\n",
        "4. Data in the left matrix should be arranged as rows., while data in the right matrix should be arranged as columns."
      ]
    },
    {
      "cell_type": "code",
      "metadata": {
        "id": "2Q25v2yzvvs2",
        "colab_type": "code",
        "colab": {}
      },
      "source": [
        ""
      ],
      "execution_count": 0,
      "outputs": []
    },
    {
      "cell_type": "markdown",
      "metadata": {
        "id": "rXoOLqLQxHxm",
        "colab_type": "text"
      },
      "source": [
        "## Probability \n",
        "\n",
        "Again , stanford's pdf comes to rescue : http://cs229.stanford.edu/section/cs229-prob.pdf\n",
        "\n"
      ]
    },
    {
      "cell_type": "markdown",
      "metadata": {
        "id": "ggnxYyeuxa23",
        "colab_type": "text"
      },
      "source": [
        "1. The probability of any specific event is between 0 and 1 (inclusive). The sum of total probabilities of an event cannot exceed 1, that is, 0 <= p(x) <= 1.\n",
        "\n",
        "2. Probability is all about the possibility of various outcomes. The set of all\n",
        "possible outcomes is called the sample space. The sample space for a coin flip is {heads, tails}.\n",
        "\n",
        "3. A random variable x, is a variable which randomly takes on values from a sample space. When playing with random variales each outcome is equally likely to occur."
      ]
    },
    {
      "cell_type": "markdown",
      "metadata": {
        "id": "oao9Kf5azile",
        "colab_type": "text"
      },
      "source": [
        "## Distributions \n",
        "\n",
        "\n",
        "Before that continous and discrete value:\n",
        "\n",
        "Values that can be anything between a range are continous and values specified or complete are discrete values."
      ]
    },
    {
      "cell_type": "code",
      "metadata": {
        "id": "6npa7huBxZSd",
        "colab_type": "code",
        "colab": {}
      },
      "source": [
        ""
      ],
      "execution_count": 0,
      "outputs": []
    },
    {
      "cell_type": "markdown",
      "metadata": {
        "id": "7LHBnXd5zzwQ",
        "colab_type": "text"
      },
      "source": [
        "## 1. Bernoulli Distribution \n",
        "\n",
        "The simplest distribution consisting of only 2 possible outcomes or values: 0 and 1.\n",
        "0 if failure and 1 if success .\n",
        "\n",
        "The probability mass function is given by: px(1-p)1-x "
      ]
    },
    {
      "cell_type": "markdown",
      "metadata": {
        "id": "s4wSOGsU06AQ",
        "colab_type": "text"
      },
      "source": [
        "## 2. Uniform Distribution\n",
        "\n",
        "\n",
        " Unlike Bernoulli Distribution, all the n number of possible outcomes of a uniform distribution are equally likely."
      ]
    },
    {
      "cell_type": "markdown",
      "metadata": {
        "id": "6hCGbYWP1ns8",
        "colab_type": "text"
      },
      "source": [
        "## 3. Binomial Distribution\n",
        "\n",
        "It is a superset of Bernoulli distribution.When we have to calculate the possibilities of same event occuring more than once we head towards binomial distribution.Here also there are two possible outcomes but every trial is independent of another.\n",
        "A binomial distribution having one trial is a bernoulli distribution.\n",
        "\n",
        "\n",
        "https://math.stackexchange.com/questions/838107/what-is-the-difference-and-relationship-between-the-binomial-and-bernoulli-distr\n"
      ]
    },
    {
      "cell_type": "markdown",
      "metadata": {
        "id": "MrLoRSvi4ziT",
        "colab_type": "text"
      },
      "source": [
        "## 4. Normal Distribution\n",
        "\n",
        "It is a bell shaped distribution in which mean,median and mode are same(Time to google these terms :) ).\n",
        "Number of values in the left and right of the distribution are equal which makes this distribution symmetrical.It shows how the values are distributed , most the values are centered at the peak. \n",
        "\n",
        "We will be using this distribution very often throughout."
      ]
    },
    {
      "cell_type": "markdown",
      "metadata": {
        "id": "f9lU3ZaN6Aj9",
        "colab_type": "text"
      },
      "source": [
        "## 5. Poissons Distribution\n",
        "\n",
        "Similar to Binomial, all the events are independent of each other .\n",
        "Then what's the difference ?\n",
        "\n",
        "_Remember continuous and discrete_ ? \n",
        "\n",
        "Binomial is based on discrete events and poissons is based on continous events.\n",
        "\n",
        "Breaking down furter -> Binomial is based on events that have fixed attempts and poissons is based on events having infinite attempts .\n",
        "\n",
        "Poisson distributions are used to model occurences of events that could happen a very large number of times, but happen rarely"
      ]
    },
    {
      "cell_type": "code",
      "metadata": {
        "id": "31wr03zI05WA",
        "colab_type": "code",
        "colab": {}
      },
      "source": [
        ""
      ],
      "execution_count": 0,
      "outputs": []
    },
    {
      "cell_type": "markdown",
      "metadata": {
        "id": "6T173NHp6vad",
        "colab_type": "text"
      },
      "source": [
        "Further reading :\n",
        "\n",
        "\n",
        "\n",
        "https://www.analyticsvidhya.com/blog/2017/09/6-probability-distributions-data-science/"
      ]
    },
    {
      "cell_type": "markdown",
      "metadata": {
        "id": "r79VIdwaAVmr",
        "colab_type": "text"
      },
      "source": [
        "# **Exercises**"
      ]
    },
    {
      "cell_type": "markdown",
      "metadata": {
        "id": "MY89DOcOAi4t",
        "colab_type": "text"
      },
      "source": [
        "*Practise makes a man perfect!*\n",
        "\n",
        "\n",
        "Here's a list of some cool exercises so that you can apply what you learnt!\n",
        "\n",
        "1. **Some Linear Algebra Fun** : https://www.albert.io/linear-algebra\n",
        "\n",
        "2. **Remember multiplication of matrices is important?** :https://www.intmath.com/matrices-determinants/4-multiplying-matrices.php"
      ]
    },
    {
      "cell_type": "code",
      "metadata": {
        "id": "x3xymmlF6zbH",
        "colab_type": "code",
        "colab": {}
      },
      "source": [
        ""
      ],
      "execution_count": 0,
      "outputs": []
    }
  ]
}