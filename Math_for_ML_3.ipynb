{
  "nbformat": 4,
  "nbformat_minor": 0,
  "metadata": {
    "colab": {
      "name": "Math_for_ML-3.ipynb",
      "provenance": [],
      "collapsed_sections": [],
      "include_colab_link": true
    },
    "kernelspec": {
      "name": "python3",
      "display_name": "Python 3"
    }
  },
  "cells": [
    {
      "cell_type": "markdown",
      "metadata": {
        "id": "R0IofbdHm2UQ",
        "colab_type": "text"
      },
      "source": [
        "# **Mathematics for Machine Learning - Numpy, Matrix, Introduction of Linear Regression and Regression**"
      ]
    },
    {
      "cell_type": "markdown",
      "metadata": {
        "id": "kkCRpFnXnFQ9",
        "colab_type": "text"
      },
      "source": [
        "*Previously at the ML study group...*  \n",
        "We have learned that there are tons of *amazing* Python libraries that help you conquer your fear of Math.  \n",
        "Today we will continue exploring [NumPy](https://numpy.org/) - one of the most important libraries that is essential for Machine Learning (and more importantly to do the Math for you).   \n"
      ]
    },
    {
      "cell_type": "markdown",
      "metadata": {
        "id": "zwbThX1uGqUs",
        "colab_type": "text"
      },
      "source": [
        "## **5 Reasons Why NumPy is important and a \"better\" library** \n",
        "\n",
        "![ChessUrl](https://media.giphy.com/media/26xBI73gWquCBBCDe/giphy.gif \"math\")  \n",
        "\n",
        "1.   Vectorization\n",
        "    *   *What?* -- it is a process of converting a matrix into a column vector\n",
        "    *   *Why?* -- the process significantly decreases running time especially with complex matrix calculations!\n",
        "2.   Random number generation\n",
        "    *   *What?* -- NumPy helps you to randomly generate random numbers - as many numbers as you want, even multi-dimensional matricies (_tensors_)!\n",
        "    *   *Why?* -- you dont have type numbers one by one or clean dirty data from the internet to get a large dataset!  Sometimes, all you need is a distribution of numbers.\n",
        "3.   Broadcasting\n",
        "    *   *What?* -- NumPy can handle arrays of different shapes during arithmetic operations by expanding a smaller matrix to fit the shape of a larger one!\n",
        "    *   *Why?* --  It helps skip duplicated values, stretchs the dimensions of our array model, and makes sure looping happens in C (_fast_) instead of Python (_slower_).\n",
        "4.   Fourier Transforms, Linear Algebra optimizations\n",
        "    *   *What?* -- they're all important algorithms in signal processing, data analysis and machine learning\n",
        "    *   *Why?* -- instead of carefully hand-drafting all the associated mathematical formulas, we simply have to enter parameters into the functions and get the results!\n",
        "5.   Speedy computation, closer to the \"metal\"\n",
        "    *   *What?* -- although there are lots of well-built libraries available, NumPy has been built to use C where possible, and has many well-defined data types.  It's definitely one of the libraries that is most used for scientific calculation.\n",
        "    *   *Why?* -- the data structure of NumPy takes up less space (mostly contiguous in memory) with (((optimized functions))) designed to run in lower-level C code whenever possible.\n",
        "\n",
        "\n",
        "\n",
        "We introduced some important elements of Numpy on our [last\n",
        " session](https://github.com/BethanyG/ML_Mondays_WWCodePython/blob/master/Maths_for_ML_2.ipynb).\n"
      ]
    },
    {
      "cell_type": "code",
      "metadata": {
        "id": "52_uTayUyZIj",
        "colab_type": "code",
        "colab": {}
      },
      "source": [
        "# to check if numpy and matplotlib are installed\n",
        "! pip install numpy\n",
        "! pip install matplotlib"
      ],
      "execution_count": 0,
      "outputs": []
    },
    {
      "cell_type": "code",
      "metadata": {
        "id": "ig51o366zZOp",
        "colab_type": "code",
        "colab": {}
      },
      "source": [
        "#import libraries\n",
        "import numpy as np\n",
        "import matplotlib.pyplot as plt\n",
        "from mpl_toolkits import mplot3d"
      ],
      "execution_count": 0,
      "outputs": []
    },
    {
      "cell_type": "markdown",
      "metadata": {
        "id": "ZOjRM2NWz3dI",
        "colab_type": "text"
      },
      "source": [
        "# Warm Up with Some Drawings"
      ]
    },
    {
      "cell_type": "markdown",
      "metadata": {
        "id": "QyLDmGoU4mn2",
        "colab_type": "text"
      },
      "source": [
        "To start, let's practice the concept of *array* and *matrix* a little more with help from [*matplotlib*]([*matplotlib*](https://matplotlib.org/) - a Python library we can use to plot graphs and figures.   [Here](https://colab.research.google.com/drive/1cqwDfYtQdDHu0KOF_4ZQH1-w8bCTbQIf?authuser=1#scrollTo=8hJt-JZ28XEB) is the notes where we introduced matplotlib in the previous session.\n"
      ]
    },
    {
      "cell_type": "markdown",
      "metadata": {
        "id": "e0HVUCQCMhDQ",
        "colab_type": "text"
      },
      "source": [
        "We will be creating a 3-D plot with matrix which the numbers will be [randomly generated](https://colab.research.google.com/drive/1cqwDfYtQdDHu0KOF_4ZQH1-w8bCTbQIf?authuser=1#scrollTo=xfNV_YFumkw0).\n"
      ]
    },
    {
      "cell_type": "code",
      "metadata": {
        "id": "-iSx-yBZKE9D",
        "colab_type": "code",
        "colab": {}
      },
      "source": [
        "# use np.random.randint to create a 3-dimensional matrix\n",
        "multiD_random = ...\n",
        "\n",
        "# find out its type, number of dimensions and shapes\n",
        "print('The datatype is: ', ...)\n",
        "print('The dimension is: ', ...)\n",
        "print('The shape is: ', ...)\n",
        "\n",
        "#use commandas below to visualize the matrix\n",
        "z,x,y = multiD_li\n",
        "ax = plt.axes(projection='3d')\n",
        "ax.scatter(x, y, z, zdir='z', c= 'red')\n",
        "fig = plt.figure()"
      ],
      "execution_count": 0,
      "outputs": []
    },
    {
      "cell_type": "markdown",
      "metadata": {
        "id": "9EwnGbGKaNTq",
        "colab_type": "text"
      },
      "source": [
        "# np.reshape, np.partition and np.concatenate   \n",
        "Now we will introduce couple more numpy functions that is commonly used.\n",
        "\n",
        "\n",
        "\n"
      ]
    },
    {
      "cell_type": "markdown",
      "metadata": {
        "id": "Z9MjJ3rI8kk1",
        "colab_type": "text"
      },
      "source": [
        "**Numpy.reshape**   \n",
        "[numpy.reshape](https://docs.scipy.org/doc/numpy/reference/generated/numpy.reshape.html) helps you to reshape your array / matrix."
      ]
    },
    {
      "cell_type": "code",
      "metadata": {
        "id": "htM7s6Ca9Hrv",
        "colab_type": "code",
        "colab": {}
      },
      "source": [
        "array = np.random.randn(2,5)\n",
        "array_reshape = np.reshape(array, (5,2))\n",
        "\n",
        "print('Original array: ', array)\n",
        "print('The reshaped array: ',array_reshape)"
      ],
      "execution_count": 0,
      "outputs": []
    },
    {
      "cell_type": "markdown",
      "metadata": {
        "id": "DlJAP1BN5W3J",
        "colab_type": "text"
      },
      "source": [
        "**Numpy.partition**  \n",
        "\n",
        "Like the meaning of partition, [numpy.partition](https://docs.scipy.org/doc/numpy/reference/generated/numpy.partition.html) is to separate a list of items into two or more lists. It sorts the element in the array first. After the array list sorted it will sort the list of values based on the kth index value.  \n"
      ]
    },
    {
      "cell_type": "code",
      "metadata": {
        "id": "i-HRBb735PX0",
        "colab_type": "code",
        "colab": {}
      },
      "source": [
        "# np.partition\n",
        "list_a = np.random.rand(1,9)\n",
        "list_part = np.partition(list_a, kth=2)\n",
        "print('Array a: ', list_a)\n",
        "print('Array with partition: ', list_part) "
      ],
      "execution_count": 0,
      "outputs": []
    },
    {
      "cell_type": "markdown",
      "metadata": {
        "id": "Xg_8IFib5Zpf",
        "colab_type": "text"
      },
      "source": [
        "**Numpy.concatenate**  \n",
        "[numpy.concatenate](https://docs.scipy.org/doc/numpy/reference/generated/numpy.concatenate.html) combines two or more sequences of arrays into one sequence of array.  \n",
        "It is one of the fundamental function that can help you to perform further analysis when you have 2 or more different dataset that you want to combine."
      ]
    },
    {
      "cell_type": "code",
      "metadata": {
        "id": "eG9ufhI7lgDE",
        "colab_type": "code",
        "colab": {}
      },
      "source": [
        "# np.concatenate\n",
        "array_a = np.random.randint(4,7,size=(3,2,3))\n",
        "array_b = np.random.randint(3,10,size=(5,2,3))\n",
        "array_concat = np.concatenate((array_a, array_b))\n",
        "\n",
        "print('Shape of array_a: ', array_a.shape)\n",
        "print('Shape of array_b: ', array_b.shape)\n",
        "print('Shape of concatenated array: ', array_concat.shape)"
      ],
      "execution_count": 0,
      "outputs": []
    },
    {
      "cell_type": "markdown",
      "metadata": {
        "id": "PIEnSEQOEKrZ",
        "colab_type": "text"
      },
      "source": [
        "Hope you had more fun with matrix!\n",
        "\n",
        "![ChessUrl](https://media.giphy.com/media/MC6eSuC3yypCU/giphy.gif 'matrix')\n",
        "\n",
        "\n",
        "\n",
        "\n",
        "\n"
      ]
    },
    {
      "cell_type": "markdown",
      "metadata": {
        "id": "CubllrsdUoW0",
        "colab_type": "text"
      },
      "source": [
        "# How are matrices and machine learning really related?  \n",
        "\n",
        "\n",
        "Matricies & [**tensors**](https://machinelearningmastery.com/introduction-to-tensors-for-machine-learning/) are one of the most fundamental and most important elements for calculation in science and mathematics beacuse they turn vectorized representations into 2-Dimension, 3-Dimension or even n-Dimension tables which make them a whole lot simpler to read and interact with.  But they're a little more than just a way to hold and look at data.  \n",
        "\n",
        "Matricie & tensors also encode the **valid actions** you can take on the data represented. The rules of matrix multiplication is one example of how \"valid\" transformations are \"encoded\" - if you don't have row to column match, you can't perform multiplication.\n",
        "\n",
        "*And remember all those scary forumulas and greek symbols from our second session?*\n",
        "\n",
        "Matricies help translate all those greek symbols and formulas into a format more easily processed by the CPUs and GPUs inside our computers (*and the ones in our heads!*).  *Make no mistake:* we're **still** calculating things like partial derivitaves, summations, and differential equations - but we're **_representing_** those actions in a \"plane\" or \"space\" that allows for a cleaner, more condensed form. [**This Medium Post**](https://medium.com/@jonathan_hui/machine-learning-linear-algebra-a5b1658f0151) has a very quick rundown of how this works for many ML algorithims.  [**Here is a second Medium Post**](https://towardsdatascience.com/linear-algebra-explained-in-the-context-of-deep-learning-8fcb8fca1494) that also covers the topic.  \n",
        "\n",
        "\n",
        "What can look like a long, messy list of partial derivitaves that need to be soved and added together in order to figure out the optimal curve that predicts housing prices based on number of floors and total square feet (_**i.e** [**Linear Regression**](https://towardsdatascience.com/introduction-to-linear-regression-in-python-c12a072bedf0)_) can be moved into a representation that's clear and efficient:\n",
        "\n",
        "\n",
        "\n",
        "\n",
        "\n",
        "(more to come later...)"
      ]
    },
    {
      "cell_type": "markdown",
      "metadata": {
        "id": "-lXeuhQleoR_",
        "colab_type": "text"
      },
      "source": [
        "# **Supervised Learning**\n",
        "\n",
        "Our topic of focus _regression_ falls under supervised learning.Supervised Learning is when we train our model based on the input features and *known* targets, that is, we train our model on input features with corresponding target lables.Whatever our model learn from the training is then used to predict the label of unlabelled data wehere we do not know the ouptut.\n",
        "In short-*Supervised Learning is used to train the model on data having known ouptut/labels to predict the output based on purely the input features(without telling the model output).*\n",
        "\n",
        "Further Supervised Learning is divided into-\n",
        "\n",
        "1. Regression\n",
        "2. Classification\n",
        "\n",
        "We are going to focus on regression in this session.\n",
        "\n",
        "# **Regression**\n",
        "\n",
        "Regression trains on and predicts continuous-valued response, for example,predicting house prices. It is a statistical measurement used in finance, investing, and other disciplines that attempts to determine the strength of the relationship between one dependent variable (usually denoted by Y) and a series of other changing variables (known as independent variables).\n",
        "It basically learns the mathematical relationship between the variables and figure out a pattern based on the data.This pattern is then used to answer new questions (Unseen data) on behalf of what it has learned.\n",
        "\n",
        "\n",
        "There are many linear regression algorithms, to name a few- Simple Linear Regression, Polynomial Regression, Support Vector Regression, Random Forests and the list goes on.....\n",
        "\n",
        "The two basic types of regression are linear regression and multiple linear regression, although there are non-linear regression methods for more complicated data and analysis. Linear regression uses one independent variable(X) to explain or predict the outcome of the dependent variable Y, while multiple regression uses two or more independent variables(X1,X2,X3,X4......Xn) to predict the outcome(Y).\n",
        "\n",
        "Simple linear regression aka univariate linear regression is nothing but y=mx+c\n",
        "\n",
        "For all y=dependent varaible, x=independent varaible, m=slope, c=constant.\n",
        "\n",
        "The constant is a point where the line crosses the vertical axis.\n",
        "\n",
        "\n",
        "\n",
        "\n",
        "_Time to introduce you to one interesting concept:_\n",
        "\n",
        "# **Ordinary Least Squares**\n",
        "\n",
        "While plotting x and y when we fit our model in it and a line is drawn, the line is the best fitting line having least square distance.\n",
        "The square distance = (Actual observation-Model's Obs)^2.\n",
        "\n",
        "All of the square distances are summed up for individual points and the line obtained having least square distance is the best fitting line.\n",
        "\n",
        "https://www.encyclopedia.com/social-sciences/applied-and-social-sciences-magazines/ordinary-least-squares-regression\n",
        "\n",
        "\n"
      ]
    },
    {
      "cell_type": "markdown",
      "metadata": {
        "id": "L4FQws80fXKH",
        "colab_type": "text"
      },
      "source": [
        "Let's see it with the plots. Just ignore the code for this session but I promise we'll come back to this in next session.\n",
        "\n",
        "\n",
        "Here we have some data, so we have trained our model by telling it the correct answers. By that I mean, we have trained our model by giving it the independent and dependent variables. Now it has figured out what to do when we show it new data.\n",
        "\n",
        "We have plotted how well our model does, the red dots show the correct answers or actual observations and the blue line is nothing but our linear regression model.This line is drawn after the training.\n",
        "\n",
        "Since part of the red dots lie on blue line that means our model has correctly predicted the output for those red dots. The distance between red dots and the line is the error, because that is what our line/model missed to predict. Our goal is to always minimize that error, which is also known as mean squared error.\n",
        "Since linear regression is the simplest algorithm, we can't expect it to perform excptionally well. Still, our model has performed well given we have very clean and simple data.\n"
      ]
    },
    {
      "cell_type": "code",
      "metadata": {
        "id": "Z9EAKQBAsfjV",
        "colab_type": "code",
        "outputId": "4a668d15-b7a0-454d-9909-599f9d27effd",
        "colab": {
          "base_uri": "https://localhost:8080/",
          "height": 265
        }
      },
      "source": [
        "import numpy as np\n",
        "import matplotlib.pyplot as plt\n",
        "import pandas as pd\n",
        "%matplotlib inline\n",
        "from sklearn.datasets import make_regression\n",
        "X,y=make_regression(n_samples=500,n_features=1,bias=10,noise=15)\n",
        "plt.plot(X,y,'.')\n",
        "plt.show()"
      ],
      "execution_count": 0,
      "outputs": [
        {
          "output_type": "display_data",
          "data": {
            "image/png": "[encoded data removed]",
            "text/plain": [
              "<Figure size 432x288 with 1 Axes>"
            ]
          },
          "metadata": {
            "tags": []
          }
        }
      ]
    },
    {
      "cell_type": "markdown",
      "metadata": {
        "id": "lc9CPogsn9A0",
        "colab_type": "text"
      },
      "source": [
        "We have plotted our data using the plot function, next we are going to see how well our model performs."
      ]
    },
    {
      "cell_type": "code",
      "metadata": {
        "id": "IihW_zeqbagk",
        "colab_type": "code",
        "outputId": "8f00eba4-17d0-4afa-a91c-e448c3bb6d65",
        "colab": {
          "base_uri": "https://localhost:8080/",
          "height": 282
        }
      },
      "source": [
        "from sklearn.model_selection import train_test_split \n",
        "X_train,X_test,y_train,y_test=train_test_split(X,y)\n",
        "from sklearn.linear_model import LinearRegression\n",
        "regressor=LinearRegression()\n",
        "regressor.fit(X_train,y_train)\n",
        "plt.scatter(X_test,y_test,color='r',label='Actual')\n",
        "plt.plot(X_train,regressor.predict(X_train),label='Predicted')"
      ],
      "execution_count": 0,
      "outputs": [
        {
          "output_type": "execute_result",
          "data": {
            "text/plain": [
              "[<matplotlib.lines.Line2D at 0x7f164201fb70>]"
            ]
          },
          "metadata": {
            "tags": []
          },
          "execution_count": 6
        },
        {
          "output_type": "display_data",
          "data": {
            "image/png": "[encoded data removed]",
            "text/plain": [
              "<Figure size 432x288 with 1 Axes>"
            ]
          },
          "metadata": {
            "tags": []
          }
        }
      ]
    }
  ]
}
